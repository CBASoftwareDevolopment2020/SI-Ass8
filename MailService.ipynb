{
 "cells": [
  {
   "cell_type": "markdown",
   "metadata": {},
   "source": [
    "# Assignment 3: Mail Services\n",
    "Create a messaging application, which sends notification letters to a group of people at a specified time, under the following conditions:  \n",
    "The names and mail addresses of the group members are stored in either xml or json file.  \n",
    "The content of the letter is stored in a text file.  \n",
    "The letter should start with the salutation “Dear XX NN,”, where\n",
    "- XX is either ‘Mr’ or ‘Ms’, depending on the gender of the receiver;\n",
    "- NN is the name of the receiver.\n",
    "The gender of the receiver can be discovered by use of a web service, hosted at http://www.thomas-bayer.com/restnames/ \n"
   ]
  },
  {
   "cell_type": "markdown",
   "metadata": {},
   "source": [
    "1. Read json file with names and mails\n",
    "2. Read text file with content of the email\n",
    "3. Determine gender\n",
    "4. Start text with Dear XX NN\n",
    "5. Send mail"
   ]
  },
  {
   "cell_type": "code",
   "execution_count": 1,
   "metadata": {},
   "outputs": [],
   "source": [
    "import requests\n",
    "import json\n",
    "import xmltodict\n",
    "\n",
    "from pprint import pprint as pp\n",
    "from flask import Flask, render_template, request, g\n",
    "from flask_cors import CORS, cross_origin\n",
    "from apscheduler.schedulers.background import BackgroundScheduler\n",
    "import atexit\n",
    "import smtplib"
   ]
  },
  {
   "cell_type": "code",
   "execution_count": 2,
   "metadata": {},
   "outputs": [],
   "source": [
    "def get_salutation(name:str) -> str:\n",
    "    gender_url = f'http://www.thomas-bayer.com/restnames/name.groovy?name='\n",
    "    data = requests.get(gender_url + name)\n",
    "    xpars = xmltodict.parse(data.text)\n",
    "    male = xpars['restnames']['nameinfo']['male'] == 'true'\n",
    "    female = xpars['restnames']['nameinfo']['female'] == 'true'\n",
    "\n",
    "    if male and female:\n",
    "        prefix = 'Mx'\n",
    "    elif male:\n",
    "        prefix = 'Mr'\n",
    "    elif female:\n",
    "        prefix = 'Ms'\n",
    "\n",
    "    return f'Dear {prefix}'\n",
    "\n",
    "def read_json(path:str) -> dict:\n",
    "    with open(path, 'r') as file:\n",
    "        data = file.read()\n",
    "        data_dict = json.loads(data)\n",
    "        return data_dict\n",
    "        \n",
    "def read_content(path:str) -> str:\n",
    "    with open(path, 'r') as file:\n",
    "        content = file.read()\n",
    "        return content"
   ]
  },
  {
   "cell_type": "code",
   "execution_count": 3,
   "metadata": {},
   "outputs": [],
   "source": [
    "def send_mail(receiver: str, subject: str, message: str):\n",
    "    print(\"receiver:\",receiver)\n",
    "    print(\"subject:\",subject)\n",
    "    print(\"message:\",message)\n",
    "    print(\"----\")\n",
    "    \n",
    "def send_mails():\n",
    "    json_path = 'members.json'\n",
    "    content_path = 'content.txt'\n",
    "    content = read_content(content_path)\n",
    "    members = read_json(json_path)\n",
    "    for name, mail in members.items():\n",
    "        fname, *lname = name.split(' ')\n",
    "        salutation = f'{get_salutation(fname)} {name}'\n",
    "        msg = f'{salutation}\\n{content}'\n",
    "        send_mail(mail, \"Subject here\", msg)"
   ]
  },
  {
   "cell_type": "code",
   "execution_count": 4,
   "metadata": {},
   "outputs": [
    {
     "name": "stdout",
     "output_type": "stream",
     "text": [
      " * Serving Flask app \"__main__\" (lazy loading)\n",
      " * Environment: production\n",
      "   WARNING: Do not use the development server in a production environment.\n",
      "   Use a production WSGI server instead.\n",
      " * Debug mode: off\n"
     ]
    },
    {
     "name": "stderr",
     "output_type": "stream",
     "text": [
      " * Running on http://127.0.0.1:5000/ (Press CTRL+C to quit)\n"
     ]
    },
    {
     "name": "stdout",
     "output_type": "stream",
     "text": [
      "receiver: test@testesen.dk\n",
      "subject: Subject here\n",
      "message: Dear Mr Nikolaj Thorsen Nielsen\n",
      "Hello World\n",
      "----\n",
      "receiver: awesome@mail.com\n",
      "subject: Subject here\n",
      "message: Dear Mr Daniel Lindholm\n",
      "Hello World\n",
      "----\n",
      "receiver: another@mail.com\n",
      "subject: Subject here\n",
      "message: Dear Mr Michael Ejdal Lundsgaard\n",
      "Hello World\n",
      "----\n",
      "receiver: jacob@b.org\n",
      "subject: Subject here\n",
      "message: Dear Mr Jacob Borg\n",
      "Hello World\n",
      "----\n",
      "receiver: test@testesen.dk\n",
      "subject: Subject here\n",
      "message: Dear Mr Nikolaj Thorsen Nielsen\n",
      "Hello World\n",
      "----\n",
      "receiver: awesome@mail.com\n",
      "subject: Subject here\n",
      "message: Dear Mr Daniel Lindholm\n",
      "Hello World\n",
      "----\n",
      "receiver: another@mail.com\n",
      "subject: Subject here\n",
      "message: Dear Mr Michael Ejdal Lundsgaard\n",
      "Hello World\n",
      "----\n",
      "receiver: jacob@b.org\n",
      "subject: Subject here\n",
      "message: Dear Mr Jacob Borg\n",
      "Hello World\n",
      "----\n",
      "receiver: test@testesen.dk\n",
      "subject: Subject here\n",
      "message: Dear Mr Nikolaj Thorsen Nielsen\n",
      "Hello World\n",
      "----\n",
      "receiver: awesome@mail.com\n",
      "subject: Subject here\n",
      "message: Dear Mr Daniel Lindholm\n",
      "Hello World\n",
      "----\n",
      "receiver: another@mail.com\n",
      "subject: Subject here\n",
      "message: Dear Mr Michael Ejdal Lundsgaard\n",
      "Hello World\n",
      "----\n",
      "receiver: jacob@b.org\n",
      "subject: Subject here\n",
      "message: Dear Mr Jacob Borg\n",
      "Hello World\n",
      "----\n"
     ]
    }
   ],
   "source": [
    "app = Flask(__name__)\n",
    "cors = CORS(app)\n",
    "app.config['CORS_HEADERS'] = 'Content-Type'\n",
    "\n",
    "########################\n",
    "#####     CRON     #####\n",
    "########################\n",
    "scheduler = BackgroundScheduler()\n",
    "scheduler.add_job(func=send_mails, trigger=\"interval\", seconds=30) \n",
    "scheduler.start()\n",
    "atexit.register(lambda: scheduler.shutdown())\n",
    "#######################\n",
    "\n",
    "if __name__ == '__main__':\n",
    "    app.run()"
   ]
  }
 ],
 "metadata": {
  "kernelspec": {
   "display_name": "Python 3",
   "language": "python",
   "name": "python3"
  },
  "language_info": {
   "codemirror_mode": {
    "name": "ipython",
    "version": 3
   },
   "file_extension": ".py",
   "mimetype": "text/x-python",
   "name": "python",
   "nbconvert_exporter": "python",
   "pygments_lexer": "ipython3",
   "version": "3.7.3"
  }
 },
 "nbformat": 4,
 "nbformat_minor": 4
}
